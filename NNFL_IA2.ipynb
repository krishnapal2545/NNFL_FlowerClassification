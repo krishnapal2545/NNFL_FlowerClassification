{
  "cells": [
    {
      "cell_type": "markdown",
      "metadata": {},
      "source": [
        "# Importing All Libraries"
      ]
    },
    {
      "cell_type": "code",
      "execution_count": 9,
      "metadata": {
        "id": "VI_hCA7nSpFJ"
      },
      "outputs": [],
      "source": [
        "import os\n",
        "import cv2\n",
        "import time\n",
        "import random\n",
        "import numpy as np\n",
        "import matplotlib.pyplot as plt\n",
        "from keras.models import Sequential\n",
        "from keras.callbacks import TensorBoard\n",
        "from sklearn.model_selection import train_test_split\n",
        "from keras.layers import Conv2D, MaxPooling2D, Flatten, Dense, Dropout, BatchNormalization"
      ]
    },
    {
      "cell_type": "markdown",
      "metadata": {},
      "source": [
        "## Loading Training Data"
      ]
    },
    {
      "cell_type": "code",
      "execution_count": 10,
      "metadata": {
        "colab": {
          "base_uri": "https://localhost:8080/"
        },
        "id": "eqcTkN-DTmyL",
        "outputId": "5303c195-181f-43b6-a855-8aaf844df5dd"
      },
      "outputs": [
        {
          "name": "stdout",
          "output_type": "stream",
          "text": [
            "(1800, 150, 150, 3) (1800,)\n"
          ]
        }
      ],
      "source": [
        "DIRECTORY = 'flowers/'\n",
        "Categories = ['rose', 'sunflower']\n",
        "\n",
        "IMAGE_SIZE = 150\n",
        "\n",
        "data = []\n",
        "\n",
        "for category in Categories:\n",
        "    folder = os.path.join(DIRECTORY, category)\n",
        "    label = Categories.index(category)\n",
        "    for img in os.listdir(folder):\n",
        "        img_path = os.path.join(folder,img)\n",
        "        img_arr = cv2.imread(img_path)\n",
        "        img_arr = cv2.resize(img_arr,(IMAGE_SIZE, IMAGE_SIZE))\n",
        "        data.append([img_arr,label])\n",
        "\n",
        "random.shuffle(data)\n",
        "\n",
        "total_images = []\n",
        "total_labels = []\n",
        "\n",
        "train_images = []\n",
        "train_labels = []\n",
        "\n",
        "for features, labels in data:\n",
        "    train_images.append(features)\n",
        "    train_labels.append(labels)\n",
        "    total_images.append(features)\n",
        "    total_labels.append(labels)\n",
        "\n",
        "train_images = np.array(train_images)\n",
        "train_labels = np.array(train_labels)\n",
        "\n",
        "train_images = train_images/255\n",
        "\n",
        "print(train_images.shape , train_labels.shape)"
      ]
    },
    {
      "cell_type": "markdown",
      "metadata": {},
      "source": [
        "## Loading Testing Data"
      ]
    },
    {
      "cell_type": "code",
      "execution_count": 11,
      "metadata": {
        "colab": {
          "base_uri": "https://localhost:8080/"
        },
        "id": "9yQ2ccwrTrrR",
        "outputId": "fdc9756a-3433-43df-aac1-c8407a310a45"
      },
      "outputs": [
        {
          "name": "stdout",
          "output_type": "stream",
          "text": [
            "(600, 150, 150, 3) (600,)\n"
          ]
        }
      ],
      "source": [
        "TEST_DIRECTORY = 'test-flowers/'\n",
        "Categories = ['rose', 'sunflower']\n",
        "\n",
        "IMAGE_SIZE = 150\n",
        "test_data = []\n",
        "\n",
        "for category in Categories:\n",
        "    folder = os.path.join(TEST_DIRECTORY, category)\n",
        "    label = Categories.index(category)\n",
        "    for img in os.listdir(folder):\n",
        "        img_path = os.path.join(folder,img)\n",
        "        img_arr = cv2.imread(img_path)\n",
        "        img_arr = cv2.resize(img_arr,(IMAGE_SIZE, IMAGE_SIZE))\n",
        "        test_data.append([img_arr,label])\n",
        "\n",
        "random.shuffle(test_data)\n",
        "\n",
        "test_images = []\n",
        "test_labels = []\n",
        "\n",
        "for features, labels in test_data:\n",
        "    test_images.append(features)\n",
        "    test_labels.append(labels)\n",
        "\n",
        "test_images = np.array(test_images)\n",
        "test_labels = np.array(test_labels)\n",
        "test_images = test_images/255\n",
        "\n",
        "print(test_images.shape , test_labels.shape)"
      ]
    },
    {
      "cell_type": "markdown",
      "metadata": {},
      "source": [
        "# Loading Training and Testing Data using sklearn"
      ]
    },
    {
      "cell_type": "code",
      "execution_count": 12,
      "metadata": {
        "id": "Nbho2HXdTwBE"
      },
      "outputs": [],
      "source": [
        "(trainX, testX, trainY, testY) = train_test_split(total_images, total_labels, test_size=0.2, random_state=42)\n",
        "trainX = np.array(trainX)\n",
        "trainX = trainX/255\n",
        "trainY = np.array(trainY)\n",
        "testX = np.array(testX)\n",
        "testX = testX/255\n",
        "testY = np.array(testY)"
      ]
    },
    {
      "cell_type": "markdown",
      "metadata": {},
      "source": [
        "Creat Tensorboard for graph evaluation"
      ]
    },
    {
      "cell_type": "code",
      "execution_count": 13,
      "metadata": {
        "id": "-VuMejF8TzCj"
      },
      "outputs": [],
      "source": [
        "NAME = f'flower-prediction-{int(time.time())}'\n",
        "tens_board = TensorBoard(log_dir=f'logs\\\\{NAME}\\\\')"
      ]
    },
    {
      "cell_type": "markdown",
      "metadata": {
        "id": "qpn3dKr0V6Zi"
      },
      "source": [
        "# First Model"
      ]
    },
    {
      "cell_type": "code",
      "execution_count": 17,
      "metadata": {
        "colab": {
          "base_uri": "https://localhost:8080/"
        },
        "id": "_otmmiVAT2Nm",
        "outputId": "0c7af602-c0a9-450f-8ad8-eaa8883a945c"
      },
      "outputs": [
        {
          "name": "stdout",
          "output_type": "stream",
          "text": [
            "Epoch 1/10\n",
            "43/43 [==============================] - 47s 1s/step - loss: 0.7236 - accuracy: 0.7689 - val_loss: 0.2958 - val_accuracy: 0.8556\n",
            "Epoch 2/10\n",
            "43/43 [==============================] - 46s 1s/step - loss: 0.2454 - accuracy: 0.9074 - val_loss: 0.2623 - val_accuracy: 0.9111\n",
            "Epoch 3/10\n",
            "43/43 [==============================] - 44s 1s/step - loss: 0.1784 - accuracy: 0.9333 - val_loss: 0.2218 - val_accuracy: 0.9222\n",
            "Epoch 4/10\n",
            "43/43 [==============================] - 44s 1s/step - loss: 0.1523 - accuracy: 0.9444 - val_loss: 0.2355 - val_accuracy: 0.9200\n",
            "Epoch 5/10\n",
            "43/43 [==============================] - 43s 1s/step - loss: 0.1194 - accuracy: 0.9578 - val_loss: 0.2796 - val_accuracy: 0.9133\n",
            "Epoch 6/10\n",
            "43/43 [==============================] - 44s 1s/step - loss: 0.0862 - accuracy: 0.9630 - val_loss: 0.3174 - val_accuracy: 0.8822\n",
            "Epoch 7/10\n",
            "43/43 [==============================] - 44s 1s/step - loss: 0.0429 - accuracy: 0.9859 - val_loss: 0.4227 - val_accuracy: 0.8956\n",
            "Epoch 8/10\n",
            "43/43 [==============================] - 45s 1s/step - loss: 0.0356 - accuracy: 0.9896 - val_loss: 0.3759 - val_accuracy: 0.9000\n",
            "Epoch 9/10\n",
            "43/43 [==============================] - 47s 1s/step - loss: 0.0168 - accuracy: 0.9948 - val_loss: 0.5153 - val_accuracy: 0.9067\n",
            "Epoch 10/10\n",
            "43/43 [==============================] - 45s 1s/step - loss: 0.0266 - accuracy: 0.9926 - val_loss: 0.4180 - val_accuracy: 0.8822\n"
          ]
        }
      ],
      "source": [
        "#Model on CNN Architecture\n",
        "model1 = Sequential()\n",
        "\n",
        "model1.add(Conv2D(64,(3,3), activation= 'relu'))\n",
        "model1.add(MaxPooling2D((2,2)))\n",
        "\n",
        "model1.add(Conv2D(64,(3,3), activation= 'relu'))\n",
        "model1.add(MaxPooling2D((2,2)))\n",
        "\n",
        "model1.add(Flatten())\n",
        "\n",
        "model1.add(Dense(128,input_shape = train_images.shape[1:], activation='relu'))\n",
        "model1.add(Dense(2,activation='softmax'))\n",
        "\n",
        "model1.compile(optimizer='adam', loss='sparse_categorical_crossentropy', metrics=['accuracy'])\n",
        "history1 = model1.fit(train_images,train_labels, epochs= 10, validation_split= 0.25, batch_size= 32, callbacks=[tens_board])\n"
      ]
    },
    {
      "cell_type": "markdown",
      "metadata": {},
      "source": [
        "## Accuracy vs Epoch Plot"
      ]
    },
    {
      "cell_type": "code",
      "execution_count": 26,
      "metadata": {
        "colab": {
          "base_uri": "https://localhost:8080/",
          "height": 295
        },
        "id": "c_VzK0nDjCTG",
        "outputId": "2cba0c4e-9739-42b2-c52f-1efe7a1fd48f"
      },
      "outputs": [
        {
          "data": {
            "image/png": "[encoded data removed]",
            "text/plain": [
              "<Figure size 432x288 with 1 Axes>"
            ]
          },
          "metadata": {
            "needs_background": "light"
          },
          "output_type": "display_data"
        }
      ],
      "source": [
        "accu_train = history1.history['accuracy']\n",
        "accu_val = history1.history['val_accuracy']\n",
        "epochs = range(1,11)\n",
        "plt.plot(epochs, accu_train, 'g', label='Training accuracy')\n",
        "plt.plot(epochs, accu_val, 'b', label='validation accuracy')\n",
        "plt.title('Training and Validation accuracy')\n",
        "plt.xlabel('Epochs')\n",
        "plt.ylabel('Accuracy')\n",
        "plt.legend()\n",
        "plt.show()"
      ]
    },
    {
      "cell_type": "markdown",
      "metadata": {},
      "source": [
        "## Evaluate on Test Data"
      ]
    },
    {
      "cell_type": "code",
      "execution_count": 19,
      "metadata": {
        "id": "YC1XLmUsv0u5"
      },
      "outputs": [
        {
          "name": "stdout",
          "output_type": "stream",
          "text": [
            "Evaluate on test data\n",
            "19/19 [==============================] - 4s 201ms/step - loss: 0.0317 - accuracy: 0.9867\n",
            "test loss, test acc: [0.03173798322677612, 0.9866666793823242]\n"
          ]
        }
      ],
      "source": [
        "#prediction on test data\n",
        "print(\"Evaluate on test data\")\n",
        "predict_result = model1.evaluate(test_images, test_labels, batch_size=32)\n",
        "print(\"test loss, test acc:\", predict_result)"
      ]
    },
    {
      "cell_type": "markdown",
      "metadata": {
        "id": "Tp26mfPQWAX9"
      },
      "source": [
        "# Second Model"
      ]
    },
    {
      "cell_type": "code",
      "execution_count": 20,
      "metadata": {
        "colab": {
          "base_uri": "https://localhost:8080/"
        },
        "id": "ZurdzvZPoUi_",
        "outputId": "0cfbd4cf-72d2-4341-fd65-92da899f47f1"
      },
      "outputs": [
        {
          "name": "stdout",
          "output_type": "stream",
          "text": [
            "Epoch 1/15\n",
            "43/43 [==============================] - 72s 2s/step - loss: 1.8872 - accuracy: 0.7563 - val_loss: 0.4479 - val_accuracy: 0.9044\n",
            "Epoch 2/15\n",
            "43/43 [==============================] - 68s 2s/step - loss: 0.2743 - accuracy: 0.8978 - val_loss: 0.3648 - val_accuracy: 0.8933\n",
            "Epoch 3/15\n",
            "43/43 [==============================] - 67s 2s/step - loss: 0.2312 - accuracy: 0.9074 - val_loss: 0.3936 - val_accuracy: 0.8978\n",
            "Epoch 4/15\n",
            "43/43 [==============================] - 71s 2s/step - loss: 0.1901 - accuracy: 0.9230 - val_loss: 0.3162 - val_accuracy: 0.9022\n",
            "Epoch 5/15\n",
            "43/43 [==============================] - 69s 2s/step - loss: 0.1725 - accuracy: 0.9319 - val_loss: 0.3336 - val_accuracy: 0.8822\n",
            "Epoch 6/15\n",
            "43/43 [==============================] - 71s 2s/step - loss: 0.1079 - accuracy: 0.9600 - val_loss: 0.2759 - val_accuracy: 0.8911\n",
            "Epoch 7/15\n",
            "43/43 [==============================] - 69s 2s/step - loss: 0.0616 - accuracy: 0.9785 - val_loss: 0.2811 - val_accuracy: 0.8956\n",
            "Epoch 8/15\n",
            "43/43 [==============================] - 71s 2s/step - loss: 0.0413 - accuracy: 0.9852 - val_loss: 0.2500 - val_accuracy: 0.9067\n",
            "Epoch 9/15\n",
            "43/43 [==============================] - 70s 2s/step - loss: 0.0205 - accuracy: 0.9933 - val_loss: 0.2923 - val_accuracy: 0.8867\n",
            "Epoch 10/15\n",
            "43/43 [==============================] - 69s 2s/step - loss: 0.0371 - accuracy: 0.9911 - val_loss: 0.2615 - val_accuracy: 0.8978\n",
            "Epoch 11/15\n",
            "43/43 [==============================] - 69s 2s/step - loss: 0.0214 - accuracy: 0.9911 - val_loss: 0.3512 - val_accuracy: 0.8533\n",
            "Epoch 12/15\n",
            "43/43 [==============================] - 72s 2s/step - loss: 0.0115 - accuracy: 0.9970 - val_loss: 0.2932 - val_accuracy: 0.8867\n",
            "Epoch 13/15\n",
            "43/43 [==============================] - 74s 2s/step - loss: 0.1115 - accuracy: 0.9622 - val_loss: 0.3689 - val_accuracy: 0.8489\n",
            "Epoch 14/15\n",
            "43/43 [==============================] - 69s 2s/step - loss: 0.0416 - accuracy: 0.9874 - val_loss: 0.2749 - val_accuracy: 0.9044\n",
            "Epoch 15/15\n",
            "43/43 [==============================] - 74s 2s/step - loss: 0.0139 - accuracy: 0.9948 - val_loss: 0.2484 - val_accuracy: 0.9111\n"
          ]
        }
      ],
      "source": [
        "model2 = Sequential()\n",
        "\n",
        "model2.add(Conv2D(64,(3,3), activation= 'relu'))\n",
        "model2.add(Dropout(0.5))\n",
        "model2.add(MaxPooling2D((2,2)))\n",
        "\n",
        "model2.add(Conv2D(64,(3,3), activation= 'relu'))\n",
        "model2.add(Dropout(0.5))\n",
        "model2.add(MaxPooling2D((2,2)))\n",
        "\n",
        "model2.add(Flatten())\n",
        "\n",
        "model2.add(Dense(128,input_shape = train_images.shape[1:], activation='relu'))\n",
        "model2.add(Dense(2,activation='softmax'))\n",
        "\n",
        "model2.compile(optimizer='adam', loss='sparse_categorical_crossentropy', metrics=['accuracy'])\n",
        "history2 = model2.fit(train_images,train_labels, epochs= 15, validation_split= 0.25, batch_size= 32, callbacks=[tens_board])"
      ]
    },
    {
      "cell_type": "markdown",
      "metadata": {},
      "source": [
        "## Accuracy vs Epoch Plot"
      ]
    },
    {
      "cell_type": "code",
      "execution_count": 27,
      "metadata": {
        "colab": {
          "base_uri": "https://localhost:8080/",
          "height": 295
        },
        "id": "U6yz3oa9viMQ",
        "outputId": "1ad51be4-55f5-49f9-b1eb-90520e13358d"
      },
      "outputs": [
        {
          "data": {
            "image/png": "[encoded data removed]",
            "text/plain": [
              "<Figure size 432x288 with 1 Axes>"
            ]
          },
          "metadata": {
            "needs_background": "light"
          },
          "output_type": "display_data"
        }
      ],
      "source": [
        "accu_train = history2.history['accuracy']\n",
        "accu_val = history2.history['val_accuracy']\n",
        "epochs = range(1,16)\n",
        "plt.plot(epochs, accu_train, 'g', label='Training accuracy')\n",
        "plt.plot(epochs, accu_val, 'b', label='validation accuracy')\n",
        "plt.title('Training and Validation accuracy')\n",
        "plt.xlabel('Epochs')\n",
        "plt.ylabel('Accuracy')\n",
        "plt.legend()\n",
        "plt.show()"
      ]
    },
    {
      "cell_type": "markdown",
      "metadata": {},
      "source": [
        "## Evaluate on Test Data"
      ]
    },
    {
      "cell_type": "code",
      "execution_count": 22,
      "metadata": {
        "colab": {
          "base_uri": "https://localhost:8080/"
        },
        "id": "3WeawBNRT6Dm",
        "outputId": "824c60cd-8e5b-41fc-900f-06019cb87c8a"
      },
      "outputs": [
        {
          "name": "stdout",
          "output_type": "stream",
          "text": [
            "Evaluate on test data\n",
            "19/19 [==============================] - 4s 205ms/step - loss: 0.0581 - accuracy: 0.9867\n",
            "test loss, test acc: [0.058057840913534164, 0.9866666793823242]\n"
          ]
        }
      ],
      "source": [
        "#prediction on test data\n",
        "print(\"Evaluate on test data\")\n",
        "predict_result = model2.evaluate(test_images, test_labels, batch_size=32)\n",
        "print(\"test loss, test acc:\", predict_result)"
      ]
    },
    {
      "cell_type": "markdown",
      "metadata": {
        "id": "L-7VKUq9WEyh"
      },
      "source": [
        "# Third Model"
      ]
    },
    {
      "cell_type": "code",
      "execution_count": 23,
      "metadata": {
        "colab": {
          "base_uri": "https://localhost:8080/"
        },
        "id": "9W3NSelP3aai",
        "outputId": "c8f58b38-01a1-4a4c-df4b-a6287e000c0b"
      },
      "outputs": [
        {
          "name": "stdout",
          "output_type": "stream",
          "text": [
            "Epoch 1/15\n",
            "43/43 [==============================] - 72s 2s/step - loss: 2.9785 - accuracy: 0.8000 - val_loss: 5.0863 - val_accuracy: 0.6378\n",
            "Epoch 2/15\n",
            "43/43 [==============================] - 67s 2s/step - loss: 0.8422 - accuracy: 0.8852 - val_loss: 11.1908 - val_accuracy: 0.6133\n",
            "Epoch 3/15\n",
            "43/43 [==============================] - 68s 2s/step - loss: 0.4078 - accuracy: 0.9074 - val_loss: 16.0066 - val_accuracy: 0.6200\n",
            "Epoch 4/15\n",
            "43/43 [==============================] - 68s 2s/step - loss: 0.9153 - accuracy: 0.8889 - val_loss: 67.8704 - val_accuracy: 0.5178\n",
            "Epoch 5/15\n",
            "43/43 [==============================] - 67s 2s/step - loss: 0.5124 - accuracy: 0.9126 - val_loss: 28.3049 - val_accuracy: 0.5556\n",
            "Epoch 6/15\n",
            "43/43 [==============================] - 70s 2s/step - loss: 0.1798 - accuracy: 0.9319 - val_loss: 37.7004 - val_accuracy: 0.5333\n",
            "Epoch 7/15\n",
            "43/43 [==============================] - 68s 2s/step - loss: 0.1060 - accuracy: 0.9570 - val_loss: 32.9988 - val_accuracy: 0.5622\n",
            "Epoch 8/15\n",
            "43/43 [==============================] - 67s 2s/step - loss: 0.0690 - accuracy: 0.9689 - val_loss: 26.3868 - val_accuracy: 0.6200\n",
            "Epoch 9/15\n",
            "43/43 [==============================] - 70s 2s/step - loss: 0.0406 - accuracy: 0.9822 - val_loss: 19.4705 - val_accuracy: 0.6956\n",
            "Epoch 10/15\n",
            "43/43 [==============================] - 72s 2s/step - loss: 0.0302 - accuracy: 0.9867 - val_loss: 14.4666 - val_accuracy: 0.7156\n",
            "Epoch 11/15\n",
            "43/43 [==============================] - 70s 2s/step - loss: 0.0264 - accuracy: 0.9874 - val_loss: 8.0298 - val_accuracy: 0.8089\n",
            "Epoch 12/15\n",
            "43/43 [==============================] - 74s 2s/step - loss: 0.0531 - accuracy: 0.9815 - val_loss: 4.5212 - val_accuracy: 0.8244\n",
            "Epoch 13/15\n",
            "43/43 [==============================] - 70s 2s/step - loss: 0.0465 - accuracy: 0.9852 - val_loss: 2.3319 - val_accuracy: 0.8889\n",
            "Epoch 14/15\n",
            "43/43 [==============================] - 74s 2s/step - loss: 0.0102 - accuracy: 0.9978 - val_loss: 1.3000 - val_accuracy: 0.8956\n",
            "Epoch 15/15\n",
            "43/43 [==============================] - 70s 2s/step - loss: 0.0077 - accuracy: 0.9956 - val_loss: 1.0086 - val_accuracy: 0.9067\n"
          ]
        }
      ],
      "source": [
        "model3 = Sequential()\n",
        "\n",
        "model3.add(Conv2D(64,(3,3), activation= 'relu'))\n",
        "model3.add(BatchNormalization())\n",
        "model3.add(MaxPooling2D((2,2)))\n",
        "\n",
        "model3.add(Conv2D(64,(3,3), activation= 'relu'))\n",
        "model3.add(BatchNormalization())\n",
        "model3.add(MaxPooling2D((2,2)))\n",
        "\n",
        "model3.add(Flatten())\n",
        "\n",
        "model3.add(Dense(128,input_shape = train_images.shape[1:], activation='relu'))\n",
        "model3.add(Dense(2,activation='softmax'))\n",
        "\n",
        "model3.compile(optimizer='adam', loss='sparse_categorical_crossentropy', metrics=['accuracy'])\n",
        "history3 = model3.fit(train_images,train_labels, epochs= 15, validation_split= 0.25, batch_size= 32, callbacks=[tens_board])"
      ]
    },
    {
      "cell_type": "markdown",
      "metadata": {},
      "source": [
        "## Accuracy vs Epoch Plot"
      ]
    },
    {
      "cell_type": "code",
      "execution_count": 28,
      "metadata": {
        "colab": {
          "base_uri": "https://localhost:8080/",
          "height": 295
        },
        "id": "oeI2KK738M-7",
        "outputId": "1667649c-74e3-4d03-94c6-8a24a762929b"
      },
      "outputs": [
        {
          "data": {
            "image/png": "[encoded data removed]",
            "text/plain": [
              "<Figure size 432x288 with 1 Axes>"
            ]
          },
          "metadata": {
            "needs_background": "light"
          },
          "output_type": "display_data"
        }
      ],
      "source": [
        "accu_train = history3.history['accuracy']\n",
        "accu_val = history3.history['val_accuracy']\n",
        "epochs = range(1,16)\n",
        "plt.plot(epochs, accu_train, 'g', label='Training accuracy')\n",
        "plt.plot(epochs, accu_val, 'b', label='validation accuracy')\n",
        "plt.title('Training and Validation accuracy')\n",
        "plt.xlabel('Epochs')\n",
        "plt.ylabel('Accuracy')\n",
        "plt.legend()\n",
        "plt.show()"
      ]
    },
    {
      "cell_type": "markdown",
      "metadata": {},
      "source": [
        "## Evaluate on Test Data"
      ]
    },
    {
      "cell_type": "code",
      "execution_count": 29,
      "metadata": {
        "colab": {
          "base_uri": "https://localhost:8080/"
        },
        "id": "GOqwlJuV8ait",
        "outputId": "ccd43731-5408-42e0-ebe4-8eaead23ab20"
      },
      "outputs": [
        {
          "name": "stdout",
          "output_type": "stream",
          "text": [
            "Evaluate on test data\n",
            "19/19 [==============================] - 6s 306ms/step - loss: 0.3302 - accuracy: 0.9783\n",
            "test loss, test acc: [0.3302428424358368, 0.9783333539962769]\n"
          ]
        }
      ],
      "source": [
        "#prediction on test data\n",
        "print(\"Evaluate on test data\")\n",
        "predict_result = model3.evaluate(test_images, test_labels, batch_size=32)\n",
        "print(\"test loss, test acc:\", predict_result)"
      ]
    },
    {
      "cell_type": "markdown",
      "metadata": {
        "id": "6Nh49LgoWLPz"
      },
      "source": [
        "# Fourth Model"
      ]
    },
    {
      "cell_type": "code",
      "execution_count": 30,
      "metadata": {
        "colab": {
          "background_save": true,
          "base_uri": "https://localhost:8080/"
        },
        "id": "XA7dKy_pOeAt",
        "outputId": "2e2db36c-66de-47e7-edae-6292d75fa208"
      },
      "outputs": [
        {
          "name": "stdout",
          "output_type": "stream",
          "text": [
            "Epoch 1/10\n",
            "43/43 [==============================] - 168s 4s/step - loss: 0.3087 - accuracy: 0.8770 - val_loss: 0.1960 - val_accuracy: 0.9222\n",
            "Epoch 2/10\n",
            "43/43 [==============================] - 187s 4s/step - loss: 0.0840 - accuracy: 0.9689 - val_loss: 0.1448 - val_accuracy: 0.9356\n",
            "Epoch 3/10\n",
            "43/43 [==============================] - 189s 4s/step - loss: 0.0386 - accuracy: 0.9926 - val_loss: 0.1385 - val_accuracy: 0.9444\n",
            "Epoch 4/10\n",
            "43/43 [==============================] - 189s 4s/step - loss: 0.0243 - accuracy: 0.9956 - val_loss: 0.1341 - val_accuracy: 0.9467\n",
            "Epoch 5/10\n",
            "43/43 [==============================] - 173s 4s/step - loss: 0.0183 - accuracy: 0.9993 - val_loss: 0.1648 - val_accuracy: 0.9378\n",
            "Epoch 6/10\n",
            "43/43 [==============================] - 178s 4s/step - loss: 0.0108 - accuracy: 0.9985 - val_loss: 0.1532 - val_accuracy: 0.9444\n",
            "Epoch 7/10\n",
            "43/43 [==============================] - 168s 4s/step - loss: 0.0053 - accuracy: 1.0000 - val_loss: 0.1468 - val_accuracy: 0.9489\n",
            "Epoch 8/10\n",
            "43/43 [==============================] - 161s 4s/step - loss: 0.0037 - accuracy: 1.0000 - val_loss: 0.1530 - val_accuracy: 0.9444\n",
            "Epoch 9/10\n",
            "43/43 [==============================] - 185s 4s/step - loss: 0.0027 - accuracy: 1.0000 - val_loss: 0.1553 - val_accuracy: 0.9489\n",
            "Epoch 10/10\n",
            "43/43 [==============================] - 168s 4s/step - loss: 0.0022 - accuracy: 1.0000 - val_loss: 0.1697 - val_accuracy: 0.9489\n"
          ]
        }
      ],
      "source": [
        "#Load VGG16 Model\n",
        "from keras.applications.vgg16 import VGG16\n",
        "\n",
        "## Loading VGG16 model\n",
        "base_model = VGG16(weights=\"imagenet\", include_top=False, input_shape=train_images[0].shape)\n",
        "base_model.trainable = False ## Not trainable weights\n",
        "Vggmodel = Sequential()\n",
        "\n",
        "Vggmodel.add(base_model)\n",
        "Vggmodel.add(Flatten())\n",
        "Vggmodel.add(Dense(50, input_shape = train_images.shape[1:], activation='relu'))\n",
        "Vggmodel.add(Dense(20, activation='relu'))\n",
        "Vggmodel.add(Dense(5, activation='softmax'))\n",
        "\n",
        "Vggmodel.compile(optimizer='adam', loss='sparse_categorical_crossentropy', metrics=['accuracy'])\n",
        "history4 = Vggmodel.fit(train_images, train_labels, epochs=10, validation_split=0.25, batch_size=32, callbacks=[tens_board])"
      ]
    },
    {
      "cell_type": "markdown",
      "metadata": {},
      "source": [
        "## Accuracy vs Epoch Plot"
      ]
    },
    {
      "cell_type": "code",
      "execution_count": 31,
      "metadata": {
        "colab": {
          "base_uri": "https://localhost:8080/",
          "height": 295
        },
        "id": "mJIeGXROUo-O",
        "outputId": "c3aa760c-af94-49de-eec6-3b7529c2cf18"
      },
      "outputs": [
        {
          "data": {
            "image/png": "[encoded data removed]",
            "text/plain": [
              "<Figure size 432x288 with 1 Axes>"
            ]
          },
          "metadata": {
            "needs_background": "light"
          },
          "output_type": "display_data"
        }
      ],
      "source": [
        "accu_train = history4.history['accuracy']\n",
        "accu_val = history4.history['val_accuracy']\n",
        "epochs = range(1,11)\n",
        "plt.plot(epochs, accu_train, 'g', label='Training accuracy')\n",
        "plt.plot(epochs, accu_val, 'b', label='validation accuracy')\n",
        "plt.title('Training and Validation accuracy')\n",
        "plt.xlabel('Epochs')\n",
        "plt.ylabel('Accuracy')\n",
        "plt.legend()\n",
        "plt.show()"
      ]
    },
    {
      "cell_type": "markdown",
      "metadata": {},
      "source": [
        "## Evaluate on Test Data"
      ]
    },
    {
      "cell_type": "code",
      "execution_count": 33,
      "metadata": {},
      "outputs": [
        {
          "name": "stdout",
          "output_type": "stream",
          "text": [
            "Evaluate on test data\n",
            "19/19 [==============================] - 59s 3s/step - loss: 0.0319 - accuracy: 0.9900\n",
            "test loss, test acc: [0.03190826252102852, 0.9900000095367432]\n"
          ]
        }
      ],
      "source": [
        "#prediction on test data\n",
        "print(\"Evaluate on test data\")\n",
        "Vgg_predict_result = Vggmodel.evaluate(test_images, test_labels, batch_size=32)\n",
        "print(\"test loss, test acc:\", Vgg_predict_result)"
      ]
    }
  ],
  "metadata": {
    "accelerator": "GPU",
    "colab": {
      "name": "NNFL_IA2.ipynb",
      "provenance": []
    },
    "kernelspec": {
      "display_name": "Python 3",
      "name": "python3"
    },
    "language_info": {
      "codemirror_mode": {
        "name": "ipython",
        "version": 3
      },
      "file_extension": ".py",
      "mimetype": "text/x-python",
      "name": "python",
      "nbconvert_exporter": "python",
      "pygments_lexer": "ipython3",
      "version": "3.9.2"
    }
  },
  "nbformat": 4,
  "nbformat_minor": 0
}
